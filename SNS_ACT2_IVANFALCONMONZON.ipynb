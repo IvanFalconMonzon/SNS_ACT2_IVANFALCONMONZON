{
  "nbformat": 4,
  "nbformat_minor": 0,
  "metadata": {
    "colab": {
      "provenance": []
    },
    "kernelspec": {
      "name": "python3",
      "display_name": "Python 3"
    },
    "language_info": {
      "name": "python"
    }
  },
  "cells": [
    {
      "cell_type": "markdown",
      "source": [
        "# IVÁN FALCÓN MONZÓN"
      ],
      "metadata": {
        "id": "tEnVJgFqlNSw"
      }
    },
    {
      "cell_type": "markdown",
      "source": [
        "**Actividad 2.1 – Análisis de observaciones influyentes**"
      ],
      "metadata": {
        "id": "QQrXV1kYtQyG"
      }
    },
    {
      "cell_type": "markdown",
      "source": [
        "# PRIMERA PARTE"
      ],
      "metadata": {
        "id": "KnOA2kREtX8f"
      }
    },
    {
      "cell_type": "markdown",
      "source": [
        "a) (1 Punto) Calcular la media y la mediana antes de realizar la modificación de\n",
        "incluir unos ingresos de 500.000€"
      ],
      "metadata": {
        "id": "LGKrBwG6lNmW"
      }
    },
    {
      "cell_type": "code",
      "execution_count": null,
      "metadata": {
        "colab": {
          "base_uri": "https://localhost:8080/"
        },
        "id": "lwwq4GaelKdd",
        "outputId": "7adad6b9-0fe4-4db6-fa54-2f4be275faaa"
      },
      "outputs": [
        {
          "output_type": "execute_result",
          "data": {
            "text/plain": [
              "array([15268.3499564 , 15341.44585483, 15347.02289588, 15480.87471187,\n",
              "       15524.181231  , 15800.71410588, 16044.91963034, 16074.42162475,\n",
              "       16401.59466454, 16480.34914706, 16521.27821695, 16528.13933446,\n",
              "       16848.12093328, 16884.6817401 , 16962.69998963, 17027.12196144,\n",
              "       17101.26935786, 17332.65162823, 17432.27956354, 17517.98315437,\n",
              "       17936.00144094, 17957.3969611 , 18056.39196149, 18104.29047972,\n",
              "       18299.12034988, 18392.08821788, 18466.77652124, 18488.1373851 ,\n",
              "       18533.72331782, 18587.44370054, 18622.65652685, 18767.93170079,\n",
              "       18937.35783453, 19071.59372764, 19083.46815391, 19181.59445439,\n",
              "       19397.37430427, 19430.99024154, 19526.46008882, 19606.29764387,\n",
              "       19766.29069127, 19774.29992281, 20005.35336243, 20043.09774568,\n",
              "       20087.57809567, 20104.75329133, 20196.5114057 , 20334.79015883,\n",
              "       20341.70168916, 20557.69079622, 20598.98638426, 20706.63264842,\n",
              "       20712.24465725, 20714.66032288, 20760.42837113, 20837.32986697,\n",
              "       20874.69066189, 20894.47301001, 20895.60026613, 21087.33173559,\n",
              "       21158.30822202, 21227.9396934 , 21307.27326303, 21376.13039889,\n",
              "       21379.0760665 , 21425.44058878, 21434.60861716, 21492.19305376,\n",
              "       21577.66609947, 21820.85201061, 21841.61847468, 21869.31769908,\n",
              "       21875.91360751, 21917.82215303, 22025.64545082, 22112.64629883,\n",
              "       22130.53375888, 22226.10624341, 22235.71258712, 22269.10981351,\n",
              "       22437.49106442, 22513.36059975, 22826.48159985, 22877.43653734,\n",
              "       22900.32945305, 22903.07670926, 23581.18352874, 23708.76802238,\n",
              "       23719.880299  , 23741.19667711, 23823.36122734, 23945.04683437,\n",
              "       23981.73512899, 24377.38484541, 24430.49735431, 24439.40353161,\n",
              "       24599.64256828, 24637.27661649, 24731.78049112, 24750.86146305])"
            ]
          },
          "metadata": {},
          "execution_count": 1
        }
      ],
      "source": [
        "# IVAN FALCON MONZON\n",
        "# LIBRERÍAS EMPLEADAS EN EL EJEMPLO\n",
        "# Tratamiento de datos\n",
        "# ==============================================================================\n",
        "import numpy as np\n",
        "import pandas as pd\n",
        "# Generación de datos\n",
        "# ==============================================================================\n",
        "# Generamos (100 elementos) ingresos uniformemente distribuidos en [15000,25000]\n",
        "datos = 15000+np.random.rand(100)*10000\n",
        "datos_ord = datos\n",
        "datos_ord.sort()\n",
        "datos"
      ]
    },
    {
      "cell_type": "code",
      "source": [
        "# IVAN FALCON MONZON\n",
        "# Cálculo de la media y mediana antes de incluir el valor atípico\n",
        "media=  np.mean(datos)  # Promedio de los datos originales\n",
        "mediana=  np.median (datos) # Es el valor central cuando los datos se ordenan\n",
        "print(f\" Media= {media} y Mediana={mediana}\") # Valor central en los datos ordenados"
      ],
      "metadata": {
        "colab": {
          "base_uri": "https://localhost:8080/"
        },
        "id": "8uIXhBD9lUJf",
        "outputId": "07bf3ebb-0bad-4d64-ed7a-9625d12aa7b5"
      },
      "execution_count": null,
      "outputs": [
        {
          "output_type": "stream",
          "name": "stdout",
          "text": [
            " Media= 20212.917484506896 y Mediana=20578.338590240965\n"
          ]
        }
      ]
    },
    {
      "cell_type": "markdown",
      "source": [
        "b) (2 Puntos) Aplicar el método de Probabilidad global, para detectar los outliers:"
      ],
      "metadata": {
        "id": "I74TFrwSlXMp"
      }
    },
    {
      "cell_type": "code",
      "source": [
        "# IVAN FALCON MONZON\n",
        "# Asumiendo que las variables tienen una distribución normal.\n",
        "\n",
        "import scipy.stats as st\n",
        "\n",
        "# Probabilidad de la muestra de estar dentro de las bandas\n",
        "p_g = 0.95  # Intervalo de confianza del 95%\n",
        "\n",
        "# Cálculo de alfa_g\n",
        "alfa_g = (1.1 - p_g) / 2  # Parte de la probabilidad fuera del intervalo\n",
        "\n",
        "# Usamos alfa_g directamente como probabilidad global\n",
        "alfa = alfa_g\n",
        "\n",
        "# Cálculo del valor crítico Z_alfa\n",
        "import scipy.stats as st\n",
        "Z_alfa = st.norm.ppf(1 - alfa)  # Percentil inverso de la distribución normal\n",
        "\n",
        "# Impresión de resultados\n",
        "alfa = round(alfa, 5)\n",
        "Z_alfa = round(Z_alfa, 5)\n",
        "print(f\"Alfa = {alfa}\")\n",
        "print(f\"Z_alfa = {Z_alfa}\")\n",
        "\n",
        "# Cálculo de las bandas\n",
        "import numpy as np\n",
        "xL = round(np.mean(datos) - Z_alfa * np.std(datos), 4)  # Límite inferior\n",
        "xU = round(np.mean(datos) + Z_alfa * np.std(datos), 4)  # Límite superior\n",
        "print(f\"Banda = [{xL}, {xU}]\")\n",
        "\n",
        "# Identificación de outliers\n",
        "outliers = []  # Lista para almacenar los outliers detectados\n",
        "\n",
        "for i in range(len(datos)):\n",
        "    if datos[i] < xL or datos[i] > xU:\n",
        "        outliers.append((i, datos[i]))  # Guardamos el índice y el valor\n",
        "        print(f\"El dato[{i}] = {datos[i]} es un outlier\")\n",
        "\n",
        "# Verificación final\n",
        "if not outliers:\n",
        "    print(\"No se detectaron outliers en el conjunto de datos.\")\n",
        "else:\n",
        "    print(f\"Se detectaron {len(outliers)} outliers:\")\n",
        "    for idx, valor in outliers:\n",
        "        print(f\" - Dato[{idx}] = {valor}\")"
      ],
      "metadata": {
        "colab": {
          "base_uri": "https://localhost:8080/"
        },
        "id": "y0_rPBGNpt0P",
        "outputId": "f0bb051d-eefe-429f-a2a2-e60b66e0017f"
      },
      "execution_count": null,
      "outputs": [
        {
          "output_type": "stream",
          "name": "stdout",
          "text": [
            "Alfa = 0.075\n",
            "Z_alfa = 1.43953\n",
            "Banda = [16497.9969, 23927.8381]\n",
            "El dato[0] = 15268.349956403017 es un outlier\n",
            "El dato[1] = 15341.445854826108 es un outlier\n",
            "El dato[2] = 15347.022895883945 es un outlier\n",
            "El dato[3] = 15480.8747118672 es un outlier\n",
            "El dato[4] = 15524.181231001292 es un outlier\n",
            "El dato[5] = 15800.714105876212 es un outlier\n",
            "El dato[6] = 16044.919630339118 es un outlier\n",
            "El dato[7] = 16074.421624752948 es un outlier\n",
            "El dato[8] = 16401.5946645354 es un outlier\n",
            "El dato[9] = 16480.34914705549 es un outlier\n",
            "El dato[91] = 23945.046834369587 es un outlier\n",
            "El dato[92] = 23981.73512899394 es un outlier\n",
            "El dato[93] = 24377.384845406043 es un outlier\n",
            "El dato[94] = 24430.49735430962 es un outlier\n",
            "El dato[95] = 24439.40353161245 es un outlier\n",
            "El dato[96] = 24599.642568282597 es un outlier\n",
            "El dato[97] = 24637.276616492927 es un outlier\n",
            "El dato[98] = 24731.780491118872 es un outlier\n",
            "El dato[99] = 24750.861463045003 es un outlier\n",
            "Se detectaron 19 outliers:\n",
            " - Dato[0] = 15268.349956403017\n",
            " - Dato[1] = 15341.445854826108\n",
            " - Dato[2] = 15347.022895883945\n",
            " - Dato[3] = 15480.8747118672\n",
            " - Dato[4] = 15524.181231001292\n",
            " - Dato[5] = 15800.714105876212\n",
            " - Dato[6] = 16044.919630339118\n",
            " - Dato[7] = 16074.421624752948\n",
            " - Dato[8] = 16401.5946645354\n",
            " - Dato[9] = 16480.34914705549\n",
            " - Dato[91] = 23945.046834369587\n",
            " - Dato[92] = 23981.73512899394\n",
            " - Dato[93] = 24377.384845406043\n",
            " - Dato[94] = 24430.49735430962\n",
            " - Dato[95] = 24439.40353161245\n",
            " - Dato[96] = 24599.642568282597\n",
            " - Dato[97] = 24637.276616492927\n",
            " - Dato[98] = 24731.780491118872\n",
            " - Dato[99] = 24750.861463045003\n"
          ]
        }
      ]
    },
    {
      "cell_type": "markdown",
      "source": [
        "c) (1 Punto) Repetir el mismo procedimiento de detectar los outliers para la\n",
        "mediana: ¿Qué ocurre?"
      ],
      "metadata": {
        "id": "dqVwqf_olkaf"
      }
    },
    {
      "cell_type": "markdown",
      "source": [
        "**Diferencias encontradas:**\n",
        "\n",
        "* Al ejecutar el código nos devuleve menos valores que con la media, en este caso devuelve 4 outliers.\n",
        "\n",
        "* Al calular la mediana se cambia por median(datos).\n",
        "\n",
        "* La mediana no se ve afectada por los valores extremos, mientras que la media sí.\n",
        "\n",
        "* Desviación absoluta mediana (MAD) vs. Desviación estándar:\n",
        "\n",
        " * MAD es una medida más robusta que la desviación estándar, especialmente cuando los datos contienen outliers."
      ],
      "metadata": {
        "id": "3iSPsRT0sWIV"
      }
    },
    {
      "cell_type": "code",
      "source": [
        "# IVAN FALCON MONZON\n",
        "# Probabilidad de la muestra de estar dentro de las bandas\n",
        "p_g = 0.95  # Intervalo de confianza del 95%\n",
        "\n",
        "# Cálculo de alfa_g\n",
        "alfa_g = (1.1 - p_g) / 2  # Parte de la probabilidad fuera del intervalo\n",
        "\n",
        "# Usamos alfa_g directamente como probabilidad global\n",
        "alfa = alfa_g\n",
        "\n",
        "# Cálculo del valor crítico Z_alfa\n",
        "import scipy.stats as st\n",
        "Z_alfa = st.norm.ppf(1 - alfa)  # Percentil inverso de la distribución normal\n",
        "\n",
        "# Impresión de resultados\n",
        "alfa = round(alfa, 5)\n",
        "Z_alfa = round(Z_alfa, 5)\n",
        "print(f\"Alfa = {alfa}\")\n",
        "print(f\"Z_alfa = {Z_alfa}\")\n",
        "\n",
        "# Cálculo de las bandas usando MEDIANA y MAD\n",
        "import numpy as np\n",
        "mediana = np.median(datos)  # Cálculo de la mediana\n",
        "mad = np.median(np.abs(datos - mediana))  # Desviación absoluta mediana (MAD)\n",
        "constante = 1.4826  # Constante de ajuste para MAD bajo supuestos normales\n",
        "\n",
        "xL = round(mediana - Z_alfa * constante * mad, 4)  # Límite inferior\n",
        "xU = round(mediana + Z_alfa * constante * mad, 4)  # Límite superior\n",
        "print(f\"Banda basada en la mediana = [{xL}, {xU}]\")\n",
        "\n",
        "# Identificación de outliers\n",
        "outliers = []  # Lista para almacenar los outliers detectados\n",
        "\n",
        "for i in range(len(datos)):\n",
        "    if datos[i] < xL or datos[i] > xU:\n",
        "        outliers.append((i, datos[i]))  # Guardamos el índice y el valor\n",
        "        print(f\"El dato[{i}] = {datos[i]} es un outlier\")\n",
        "\n",
        "# Verificación final\n",
        "if not outliers:\n",
        "    print(\"No se detectaron outliers en el conjunto de datos.\")\n",
        "else:\n",
        "    print(f\"Se detectaron {len(outliers)} outliers:\")\n",
        "    for idx, valor in outliers:\n",
        "        print(f\" - Dato[{idx}] = {valor}\")"
      ],
      "metadata": {
        "colab": {
          "base_uri": "https://localhost:8080/"
        },
        "id": "K-TBbOe-nSUf",
        "outputId": "3abeb0b1-35f2-4d89-b8eb-b52c36fad46e"
      },
      "execution_count": null,
      "outputs": [
        {
          "output_type": "stream",
          "name": "stdout",
          "text": [
            "Alfa = 0.075\n",
            "Z_alfa = 1.43953\n",
            "Banda basada en la mediana = [15412.4129, 25954.9026]\n",
            "El dato[0] = 15032.101927400983 es un outlier\n",
            "El dato[1] = 15165.734939548714 es un outlier\n",
            "El dato[2] = 15261.67074333958 es un outlier\n",
            "El dato[3] = 15283.040408423032 es un outlier\n",
            "El dato[4] = 15342.963488285039 es un outlier\n",
            "Se detectaron 5 outliers:\n",
            " - Dato[0] = 15032.101927400983\n",
            " - Dato[1] = 15165.734939548714\n",
            " - Dato[2] = 15261.67074333958\n",
            " - Dato[3] = 15283.040408423032\n",
            " - Dato[4] = 15342.963488285039\n"
          ]
        }
      ]
    },
    {
      "cell_type": "markdown",
      "source": [
        "# SEGUNDA PARTE"
      ],
      "metadata": {
        "id": "Ivylin6mtbaH"
      }
    },
    {
      "cell_type": "markdown",
      "source": [
        "Considerar que la variable X toma los valores 1,2,3,4,5,6,7,8,9,10. Se pide:"
      ],
      "metadata": {
        "id": "SH3Vs2pdtjEf"
      }
    },
    {
      "cell_type": "markdown",
      "source": [
        "**a) (2 Puntos) ¿Cuánto vale la media, mediana, la desviación estándar muestral, la varianza muestral y el rango de la variable X?**"
      ],
      "metadata": {
        "id": "fd1b_5WMtkpo"
      }
    },
    {
      "cell_type": "code",
      "source": [
        "# IVAN FALCON MONZON\n",
        "# Importación de bibliotecas necesarias\n",
        "import numpy as np\n",
        "\n",
        "# Definición de la variable X\n",
        "X = np.array([1, 2, 3, 4, 5, 6, 7, 8, 9, 10])  # Valores de la variable X\n",
        "\n",
        "# Cálculo de medidas estadísticas\n",
        "# Media: Promedio de los valores\n",
        "media = np.mean(X)\n",
        "\n",
        "# Mediana: Valor central cuando los datos están ordenados\n",
        "mediana = np.median(X)\n",
        "\n",
        "# Desviación estándar muestral: Mide la dispersión de los datos respecto a la media\n",
        "desviacion_estandar = np.std(X, ddof=1)  # ddof=1 asegura que sea muestral\n",
        "\n",
        "# Varianza muestral: Cuadrado de la desviación estándar\n",
        "varianza = np.var(X, ddof=1)  # ddof=1 asegura que sea muestral\n",
        "\n",
        "# Rango: Diferencia entre el valor máximo y el valor mínimo\n",
        "rango = np.max(X) - np.min(X)\n",
        "\n",
        "# Impresión de resultados\n",
        "print(f\"Variable X: {X}\")\n",
        "print(f\"Media: {media}\")\n",
        "print(f\"Mediana: {mediana}\")\n",
        "print(f\"Desviación estándar muestral: {desviacion_estandar}\")\n",
        "print(f\"Varianza muestral: {varianza}\")\n",
        "print(f\"Rango: {rango}\")"
      ],
      "metadata": {
        "colab": {
          "base_uri": "https://localhost:8080/"
        },
        "id": "z3Q4Obq4tiM2",
        "outputId": "5f45a6fc-e899-495f-d505-ed1c5f2017aa"
      },
      "execution_count": null,
      "outputs": [
        {
          "output_type": "stream",
          "name": "stdout",
          "text": [
            "Variable X: [ 1  2  3  4  5  6  7  8  9 10]\n",
            "Media: 5.5\n",
            "Mediana: 5.5\n",
            "Desviación estándar muestral: 3.0276503540974917\n",
            "Varianza muestral: 9.166666666666666\n",
            "Rango: 9\n"
          ]
        }
      ]
    },
    {
      "cell_type": "markdown",
      "source": [
        "**b) (1 Punto) Utilizar la función describe() de Panda, para obtener la media desviación estándar, etc…**"
      ],
      "metadata": {
        "id": "YAwa32pWuaWP"
      }
    },
    {
      "cell_type": "code",
      "source": [
        "# IVAN FALCON MONZON\n",
        "# Importación de bibliotecas necesarias\n",
        "import pandas as pd\n",
        "\n",
        "# Definición de la variable X como un DataFrame de pandas\n",
        "X = pd.Series([1, 2, 3, 4, 5, 6, 7, 8, 9, 10])  # Serie de pandas con los valores de X\n",
        "\n",
        "# Uso de la función describe() para obtener estadísticas descriptivas\n",
        "resumen = X.describe()\n",
        "\n",
        "# Impresión de los resultados\n",
        "print(\"Resumen estadístico de la variable X:\")\n",
        "print(resumen)\n",
        "\n",
        "# Acceso individual a los valores calculados si es necesario\n",
        "media = resumen[\"mean\"]  # Media\n",
        "desviacion_estandar = X.std()  # Desviación estándar muestral\n",
        "rango = X.max() - X.min()  # Rango (máximo - mínimo)\n",
        "\n",
        "print(f\"\\nMedia: {media}\")\n",
        "print(f\"Desviación estándar muestral: {desviacion_estandar}\")\n",
        "print(f\"Rango: {rango}\")"
      ],
      "metadata": {
        "colab": {
          "base_uri": "https://localhost:8080/"
        },
        "id": "LRk8WSMUtf11",
        "outputId": "34bf4e05-6a95-49fa-f5a5-01cc3c53d2e5"
      },
      "execution_count": null,
      "outputs": [
        {
          "output_type": "stream",
          "name": "stdout",
          "text": [
            "Resumen estadístico de la variable X:\n",
            "count    10.00000\n",
            "mean      5.50000\n",
            "std       3.02765\n",
            "min       1.00000\n",
            "25%       3.25000\n",
            "50%       5.50000\n",
            "75%       7.75000\n",
            "max      10.00000\n",
            "dtype: float64\n",
            "\n",
            "Media: 5.5\n",
            "Desviación estándar muestral: 3.0276503540974917\n",
            "Rango: 9\n"
          ]
        }
      ]
    },
    {
      "cell_type": "markdown",
      "source": [
        "**c) (1 Punto)¿Por qué el resultado de calcular la desviación estándar con Numpy es diferente a la calculada por describe de Panda? ¿Qué ajuste sería necesario realizar para que los resultados fuesen similares/iguales?**"
      ],
      "metadata": {
        "id": "njV0PuwSul02"
      }
    },
    {
      "cell_type": "markdown",
      "source": [
        "La diferencia en el cálculo de la desviación estándar entre numpy y pandas radica en el parámetro de grados de libertad (ddof, delta degrees of freedom) utilizado en la fórmula.\n",
        "\n",
        "\n",
        "Razón de la diferencia:\n",
        "\n",
        "Por defecto:\n",
        "\n",
        "* numpy.std() utiliza ddof=0 (división entre\n",
        "𝑁\n",
        "N, el tamaño de la muestra) para calcular la desviación estándar de la población.\n",
        "\n",
        "* pandas.Series.std() o describe() utiliza ddof=1 (división entre\n",
        "𝑁\n",
        "−\n",
        "1\n",
        "N−1) para calcular la desviación estándar muestral.\n",
        "\n",
        "Ajuste necesario para que coincidan:\n",
        "* Para que los resultados de numpy coincidan con los de pandas, hay que especificar ddof=1 al usar numpy.std()."
      ],
      "metadata": {
        "id": "9eXV_S5ov6xN"
      }
    },
    {
      "cell_type": "code",
      "source": [
        "# IVAN FALCON MONZON\n",
        "import numpy as np\n",
        "import pandas as pd\n",
        "\n",
        "# Definimos la variable X\n",
        "X = np.array([1, 2, 3, 4, 5, 6, 7, 8, 9, 10])\n",
        "\n",
        "# Cálculo de la desviación estándar con NumPy\n",
        "std_poblacional_numpy = np.std(X)  # Por defecto, ddof=0 (poblacional)\n",
        "std_muestral_numpy = np.std(X, ddof=1)  # Ajuste para ser muestral\n",
        "\n",
        "# Cálculo de la desviación estándar con pandas\n",
        "std_pandas = pd.Series(X).std()  # Por defecto, ddof=1\n",
        "\n",
        "# Impresión de resultados\n",
        "print(f\"Desviación estándar poblacional (NumPy, ddof=0): {std_poblacional_numpy}\")\n",
        "print(f\"Desviación estándar muestral (NumPy, ddof=1): {std_muestral_numpy}\")\n",
        "print(f\"Desviación estándar muestral (Pandas): {std_pandas}\")"
      ],
      "metadata": {
        "colab": {
          "base_uri": "https://localhost:8080/"
        },
        "id": "wTLX9zhbup22",
        "outputId": "d771f838-6205-4a1c-bc8f-4dbcecedb50b"
      },
      "execution_count": null,
      "outputs": [
        {
          "output_type": "stream",
          "name": "stdout",
          "text": [
            "Desviación estándar poblacional (NumPy, ddof=0): 2.8722813232690143\n",
            "Desviación estándar muestral (NumPy, ddof=1): 3.0276503540974917\n",
            "Desviación estándar muestral (Pandas): 3.0276503540974917\n"
          ]
        }
      ]
    },
    {
      "cell_type": "markdown",
      "source": [
        "**Conclusión:**\n",
        "\n",
        "* La desviación estándar poblacional de numpy (\n",
        "𝑑\n",
        "𝑑\n",
        "𝑜\n",
        "𝑓\n",
        "=\n",
        "0\n",
        "ddof=0) es menor porque no considera la corrección muestral (\n",
        "𝑁\n",
        "−\n",
        "1\n",
        "N−1).\n",
        "\n",
        "* Para que el resultado de numpy sea igual al de pandas, debes usar ddof=1 en numpy.std()"
      ],
      "metadata": {
        "id": "BX3f0mo5v7YH"
      }
    },
    {
      "cell_type": "markdown",
      "source": [
        "**¿Por qué\n",
        "𝑁\n",
        "−\n",
        "1\n",
        "N−1 en la muestra?**\n",
        "\n",
        "La corrección por\n",
        "𝑁\n",
        "−\n",
        "1\n",
        "N−1 se llama corrección de ***Bessel***, y se utiliza para evitar un sesgo en la estimación de la varianza cuando trabajas con una muestra en lugar de la población completa. Esto ajusta la fórmula para reflejar mejor la variabilidad real."
      ],
      "metadata": {
        "id": "WHnMB7uEwg4O"
      }
    },
    {
      "cell_type": "markdown",
      "source": [
        "**d) (1 Punto) Estandarizar la variable (escalamiento) mediante rangos y a\n",
        "continuación calcular la media y la mediana de la variable escalada.**"
      ],
      "metadata": {
        "id": "fKicj6Wruq2u"
      }
    },
    {
      "cell_type": "markdown",
      "source": [
        "Estandarizar una variable mediante rangos implica escalar los valores a un rango fijo, generalmente entre 0 y 1.\n"
      ],
      "metadata": {
        "id": "suNROYRHxW4X"
      }
    },
    {
      "cell_type": "code",
      "source": [
        "# IVAN FALCON MONZON\n",
        "# Importación de bibliotecas necesarias\n",
        "import numpy as np\n",
        "\n",
        "# Definimos la variable X\n",
        "X = np.array([1, 2, 3, 4, 5, 6, 7, 8, 9, 10])\n",
        "\n",
        "# Estandarización mediante rangos\n",
        "X_min = np.min(X)  # Valor mínimo de X\n",
        "X_max = np.max(X)  # Valor máximo de X\n",
        "X_escalado = (X - X_min) / (X_max - X_min)  # Fórmula de estandarización por rango\n",
        "\n",
        "# Cálculo de la media y mediana de la variable escalada\n",
        "media_escalada = np.mean(X_escalado)\n",
        "mediana_escalada = np.median(X_escalado)\n",
        "\n",
        "# Impresión de resultados\n",
        "print(\"Variable original X:\", X)\n",
        "print(\"Variable escalada X:\", X_escalado)\n",
        "print(f\"Media de la variable escalada: {media_escalada}\")\n",
        "print(f\"Mediana de la variable escalada: {mediana_escalada}\")"
      ],
      "metadata": {
        "colab": {
          "base_uri": "https://localhost:8080/"
        },
        "id": "D4ddw8P_utst",
        "outputId": "5d6b5943-bb9d-445b-98c9-c1883af9869c"
      },
      "execution_count": null,
      "outputs": [
        {
          "output_type": "stream",
          "name": "stdout",
          "text": [
            "Variable original X: [ 1  2  3  4  5  6  7  8  9 10]\n",
            "Variable escalada X: [0.         0.11111111 0.22222222 0.33333333 0.44444444 0.55555556\n",
            " 0.66666667 0.77777778 0.88888889 1.        ]\n",
            "Media de la variable escalada: 0.5\n",
            "Mediana de la variable escalada: 0.5\n"
          ]
        }
      ]
    },
    {
      "cell_type": "markdown",
      "source": [
        "**e) (1 Punto) Repetir el apartado anterior con el escalamiento Z - score**"
      ],
      "metadata": {
        "id": "l-GVpicfut_N"
      }
    },
    {
      "cell_type": "markdown",
      "source": [
        "Z-score transforma los datos para que tengan una media de 0 y una desviación estándar de 1."
      ],
      "metadata": {
        "id": "YuZE7zu_xo6F"
      }
    },
    {
      "cell_type": "code",
      "source": [
        "# IVAN FALCON MONZON\n",
        "# Importación de bibliotecas necesarias\n",
        "import numpy as np\n",
        "\n",
        "# Definimos la variable X\n",
        "X = np.array([1, 2, 3, 4, 5, 6, 7, 8, 9, 10])\n",
        "\n",
        "# Cálculo de la media y la desviación estándar de X\n",
        "media = np.mean(X)  # Media de X\n",
        "desviacion_estandar = np.std(X, ddof=1)  # Desviación estándar muestral (ddof=1)\n",
        "\n",
        "# Escalamiento Z-score\n",
        "X_zscore = (X - media) / desviacion_estandar  # Fórmula del Z-score\n",
        "\n",
        "# Cálculo de la media y mediana de la variable escalada\n",
        "media_zscore = np.mean(X_zscore)  # Media del Z-score\n",
        "mediana_zscore = np.median(X_zscore)  # Mediana del Z-score\n",
        "\n",
        "# Impresión de resultados\n",
        "print(\"Variable original X:\", X)\n",
        "print(\"Variable escalada Z-score X:\", X_zscore)\n",
        "print(f\"Media de la variable escalada Z-score: {media_zscore}\")\n",
        "print(f\"Mediana de la variable escalada Z-score: {mediana_zscore}\")"
      ],
      "metadata": {
        "colab": {
          "base_uri": "https://localhost:8080/"
        },
        "id": "jjjF6snjuvj9",
        "outputId": "23ca9054-8bdf-48d8-89f9-249b683d4266"
      },
      "execution_count": null,
      "outputs": [
        {
          "output_type": "stream",
          "name": "stdout",
          "text": [
            "Variable original X: [ 1  2  3  4  5  6  7  8  9 10]\n",
            "Variable escalada Z-score X: [-1.48630108 -1.15601195 -0.82572282 -0.49543369 -0.16514456  0.16514456\n",
            "  0.49543369  0.82572282  1.15601195  1.48630108]\n",
            "Media de la variable escalada Z-score: 4.4408920985006264e-17\n",
            "Mediana de la variable escalada Z-score: 0.0\n"
          ]
        }
      ]
    }
  ]
}